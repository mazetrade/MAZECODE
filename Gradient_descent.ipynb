{
 "cells": [
  {
   "cell_type": "code",
   "execution_count": null,
   "id": "b5c493ba",
   "metadata": {},
   "outputs": [],
   "source": [
    "!pip install yfinance\n"
   ]
  },
  {
   "cell_type": "code",
   "execution_count": null,
   "id": "445cc3ad",
   "metadata": {},
   "outputs": [],
   "source": [
    "import numpy as np\n",
    "import pandas as pd\n",
    "import matplotlib.pyplot as plt\n",
    "import yfinance as yf"
   ]
  },
  {
   "cell_type": "code",
   "execution_count": null,
   "id": "d421ff5b",
   "metadata": {},
   "outputs": [],
   "source": [
    "# Télécharger les données\n",
    "data = yf.download(\"AAPL\", start=\"2024-01-01\", end=\"2024-07-01\")\n",
    "\n",
    "# Vérifie les colonnes disponibles\n",
    "print(\"Colonnes:\", data.columns)\n"
   ]
  },
  {
   "cell_type": "code",
   "execution_count": null,
   "id": "b3b5bc77",
   "metadata": {},
   "outputs": [],
   "source": [
    "# Aplatir les colonnes si MultiIndex\n",
    "if isinstance(data.columns, pd.MultiIndex):\n",
    "    data.columns = data.columns.get_level_values(0)\n",
    "\n",
    "# Calcul des rendements\n",
    "data['Return'] = data['Close'].pct_change()\n",
    "\n",
    "# Variables pour régression\n",
    "data['Return_t-1'] = data['Return'].shift(1)\n",
    "data.dropna(inplace=True)\n",
    "\n",
    "# Variables explicatives et cible\n",
    "x = data['Return_t-1'].values\n",
    "y = data['Return'].values"
   ]
  },
  {
   "cell_type": "code",
   "execution_count": null,
   "id": "7991787e",
   "metadata": {},
   "outputs": [],
   "source": [
    "def linear_regression_gd(x, y, learning_rate=0.1, iterations=1000):\n",
    "    slope = intercept = 0\n",
    "    n = len(x)\n",
    "    \n",
    "    for i in range(iterations):\n",
    "        y_pred = slope * x + intercept\n",
    "        cost = (1/n) * sum((y - y_pred)**2)\n",
    "        \n",
    "        slope_grad = -(2/n) * sum(x * (y - y_pred))\n",
    "        intercept_grad = -(2/n) * sum(y - y_pred)\n",
    "        \n",
    "        slope = slope - learning_rate * slope_grad\n",
    "        intercept = intercept - learning_rate * intercept_grad\n",
    "        \n",
    "        if i % 100 == 0:\n",
    "            print(f\"Iteration {i}: slope={slope:.4f}, intercept={intercept:.4f}, cost={cost:.6f}\")\n",
    "    \n",
    "    return slope, intercept"
   ]
  },
  {
   "cell_type": "code",
   "execution_count": null,
   "id": "75a9135e",
   "metadata": {},
   "outputs": [],
   "source": [
    "slope, intercept = linear_regression_gd(x, y)\n",
    "\n",
    "# Affichage des résultats\n",
    "plt.scatter(x, y, color='blue', label='Data')\n",
    "plt.plot(x, slope * x + intercept, color='red', label='Prediction')\n",
    "plt.xlabel(\"Rendement t-1\")\n",
    "plt.ylabel(\"Rendement t\")\n",
    "plt.title(\"Régression linéaire sur les rendements journaliers\")\n",
    "plt.legend()\n",
    "plt.show()\n"
   ]
  },
  {
   "cell_type": "code",
   "execution_count": null,
   "id": "ebd7ecca",
   "metadata": {},
   "outputs": [],
   "source": [
    "!pip install scikit-learn"
   ]
  },
  {
   "cell_type": "code",
   "execution_count": null,
   "id": "85644d7a",
   "metadata": {},
   "outputs": [],
   "source": [
    "from sklearn.linear_model import LinearRegression\n",
    "\n",
    "# Reshaper x (important pour sklearn)\n",
    "x = x.reshape(-1, 1)\n",
    "\n",
    "# Créer et entraîner le modèle\n",
    "model = LinearRegression()\n",
    "model.fit(x, y)\n",
    "\n",
    "# Coefficients\n",
    "slope = model.coef_[0]\n",
    "intercept = model.intercept_\n",
    "\n",
    "print(f\"Pente (coefficient): {slope}\")\n",
    "print(f\"Ordonnée à l'origine (intercept): {intercept}\")"
   ]
  },
  {
   "cell_type": "code",
   "execution_count": null,
   "id": "92f56d21",
   "metadata": {},
   "outputs": [],
   "source": [
    "# Prédictions\n",
    "y_pred = model.predict(x)\n",
    "\n",
    "# Tracer\n",
    "plt.figure(figsize=(8, 6))\n",
    "plt.scatter(x, y, color='blue', label='Data')\n",
    "plt.plot(x, y_pred, color='red', label='Régression')\n",
    "plt.xlabel(\"Rendement t-1\")\n",
    "plt.ylabel(\"Rendement t\")\n",
    "plt.title(\"Régression linéaire simple sur les rendements journaliers\")\n",
    "plt.legend()\n",
    "plt.grid(True)\n",
    "plt.show()"
   ]
  }
 ],
 "metadata": {
  "kernelspec": {
   "display_name": "Python (env)",
   "language": "python",
   "name": "env"
  },
  "language_info": {
   "codemirror_mode": {
    "name": "ipython",
    "version": 3
   },
   "file_extension": ".py",
   "mimetype": "text/x-python",
   "name": "python",
   "nbconvert_exporter": "python",
   "pygments_lexer": "ipython3",
   "version": "3.12.7"
  }
 },
 "nbformat": 4,
 "nbformat_minor": 5
}
